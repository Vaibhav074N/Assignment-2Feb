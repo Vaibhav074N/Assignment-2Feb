{
  "nbformat": 4,
  "nbformat_minor": 0,
  "metadata": {
    "colab": {
      "provenance": []
    },
    "kernelspec": {
      "name": "python3",
      "display_name": "Python 3"
    },
    "language_info": {
      "name": "python"
    }
  },
  "cells": [
    {
      "cell_type": "markdown",
      "source": [
        "#### Q1.What are the characteristics of tuple? is tuple is immutable?"
      ],
      "metadata": {
        "id": "OdFOJnTqF00m"
      }
    },
    {
      "cell_type": "markdown",
      "source": [
        "##### Ans: \n",
        "#####(1) Tuple is a collection of immutable heterogeneous python objects.\n",
        "#####(2) Tuple items are ordered , unchangeable , and allow duplicate values.\n",
        "#####(3) Tuple are faster than lists.\n",
        "#####(4) Yes tuple are immutable object.But if we take list inside tuple $              we can change its value.          "
      ],
      "metadata": {
        "id": "tI8psqHbIQFL"
      }
    },
    {
      "cell_type": "markdown",
      "source": [
        "####Q2.What are the two tuple methods?"
      ],
      "metadata": {
        "id": "RaFweBd-K_D0"
      }
    },
    {
      "cell_type": "markdown",
      "source": [
        "##### Ans: \n",
        "##### Tuple Methods are: (1) .Count (2) .index\n",
        "##### The primary difference between tuples and lists is that tuples are immutable as opposed to lists which are mutable.Therefore it is possible to change a list but not a tuple. The contents of tuple cannot change once they have been created in python due to the immutability of tuples."
      ],
      "metadata": {
        "id": "HQ1aswgcLTI8"
      }
    },
    {
      "cell_type": "code",
      "source": [
        "s = ( 2,1,-4,1,2,False,\"vaibhav\",(3+7j),1)\n",
        "s.count(1)"
      ],
      "metadata": {
        "colab": {
          "base_uri": "https://localhost:8080/"
        },
        "id": "9VFEJppCMQl_",
        "outputId": "1cc99699-41ff-4409-8744-8e0309e103bd"
      },
      "execution_count": 8,
      "outputs": [
        {
          "output_type": "execute_result",
          "data": {
            "text/plain": [
              "3"
            ]
          },
          "metadata": {},
          "execution_count": 8
        }
      ]
    },
    {
      "cell_type": "code",
      "source": [
        "s.index(-4)"
      ],
      "metadata": {
        "colab": {
          "base_uri": "https://localhost:8080/"
        },
        "id": "FjBMNswYM4nk",
        "outputId": "00eafe99-a1bf-4af7-b055-c07a1ffd7305"
      },
      "execution_count": 9,
      "outputs": [
        {
          "output_type": "execute_result",
          "data": {
            "text/plain": [
              "2"
            ]
          },
          "metadata": {},
          "execution_count": 9
        }
      ]
    },
    {
      "cell_type": "markdown",
      "source": [
        "####Q3.\n",
        "####Ans:\n",
        "#### Set datatype in python do not allow duplicate items."
      ],
      "metadata": {
        "id": "XYNJarbeRYD1"
      }
    },
    {
      "cell_type": "code",
      "source": [
        "l =[1,1,1,2,1,3,1,4,2,1,2,2,4,3,3,1,4,3,1,4,4]\n",
        "a=set(l)\n",
        "a"
      ],
      "metadata": {
        "colab": {
          "base_uri": "https://localhost:8080/"
        },
        "id": "sDLbACYPRlp7",
        "outputId": "35f81f40-58b5-4096-f845-f2450e2a02a8"
      },
      "execution_count": 12,
      "outputs": [
        {
          "output_type": "execute_result",
          "data": {
            "text/plain": [
              "{1, 2, 3, 4}"
            ]
          },
          "metadata": {},
          "execution_count": 12
        }
      ]
    },
    {
      "cell_type": "markdown",
      "source": [
        "#####Q4.\n",
        "#####Ans:\n",
        "#####(1) The update() method updates the current set,by adding items from another set(or any other iterable).\n",
        "#####(2) The union() method returns a set that contain all items from the original set,and all items from the specified set."
      ],
      "metadata": {
        "id": "AK5ULthBSpjq"
      }
    },
    {
      "cell_type": "code",
      "source": [
        "x={'om','hari','ram',12,3}\n",
        "y={'sita','ram','geeta'}\n",
        "a=x.union(y)\n",
        "a"
      ],
      "metadata": {
        "colab": {
          "base_uri": "https://localhost:8080/"
        },
        "id": "1lNnnzFvVqhN",
        "outputId": "58d2d4d1-0162-4f03-c5db-03fa0c0a317a"
      },
      "execution_count": 15,
      "outputs": [
        {
          "output_type": "execute_result",
          "data": {
            "text/plain": [
              "{12, 3, 'geeta', 'hari', 'om', 'ram', 'sita'}"
            ]
          },
          "metadata": {},
          "execution_count": 15
        }
      ]
    },
    {
      "cell_type": "code",
      "source": [
        "b=x.update(y)\n",
        "b\n",
        "x"
      ],
      "metadata": {
        "colab": {
          "base_uri": "https://localhost:8080/"
        },
        "id": "w1pohqOFWG6O",
        "outputId": "11ab0a10-0b2d-4e4f-e951-55b084d03702"
      },
      "execution_count": 18,
      "outputs": [
        {
          "output_type": "execute_result",
          "data": {
            "text/plain": [
              "{12, 3, 'geeta', 'hari', 'om', 'ram', 'sita'}"
            ]
          },
          "metadata": {},
          "execution_count": 18
        }
      ]
    },
    {
      "cell_type": "markdown",
      "source": [
        "#####Q5.\n",
        "#####Ans:\n",
        "#####It is a collection of key value pair.\n",
        "#####It is mutable and indexed object, cannot contain duplicate keys.\n",
        "#####Dictionary ia an unordered and mutable python container that stores mapping of unique keys to values. Ductionaries are written with curly brackets {},including key-value pairs separated by commas."
      ],
      "metadata": {
        "id": "6ulNeUK_W6sM"
      }
    },
    {
      "cell_type": "code",
      "source": [
        "d={'om':'math','hari':'bio','sita':'jio'}\n",
        "d"
      ],
      "metadata": {
        "colab": {
          "base_uri": "https://localhost:8080/"
        },
        "id": "H-J7XOCOc_K2",
        "outputId": "21d85914-f41d-4162-c248-19ea786c4a8f"
      },
      "execution_count": 19,
      "outputs": [
        {
          "output_type": "execute_result",
          "data": {
            "text/plain": [
              "{'om': 'math', 'hari': 'bio', 'sita': 'jio'}"
            ]
          },
          "metadata": {},
          "execution_count": 19
        }
      ]
    },
    {
      "cell_type": "markdown",
      "source": [
        "#####Q6.\n",
        "#####Ans:\n",
        "##### Yes we create a nested dictionary."
      ],
      "metadata": {
        "id": "zKn14swDeLsF"
      }
    },
    {
      "cell_type": "code",
      "source": [
        "d={1:{'name':'om','class':'12'},2:{'name':'hari','class':'11'}}\n",
        "d"
      ],
      "metadata": {
        "colab": {
          "base_uri": "https://localhost:8080/"
        },
        "id": "R259nKcMe08i",
        "outputId": "948bd0de-c281-4770-a193-6c74ce4d5dd6"
      },
      "execution_count": 21,
      "outputs": [
        {
          "output_type": "execute_result",
          "data": {
            "text/plain": [
              "{1: {'name': 'om', 'class': '12'}, 2: {'name': 'hari', 'class': '11'}}"
            ]
          },
          "metadata": {},
          "execution_count": 21
        }
      ]
    },
    {
      "cell_type": "markdown",
      "source": [
        "#####Q7.\n",
        "#####Ans:"
      ],
      "metadata": {
        "id": "EQDL8nMnhKI9"
      }
    },
    {
      "cell_type": "code",
      "source": [
        "D={'language':'python','course':'Data Science Master'}\n",
        "A = D.setdefault('topic',[\"python\",\"machine learning\",\"deep learning\"])\n",
        "D"
      ],
      "metadata": {
        "colab": {
          "base_uri": "https://localhost:8080/"
        },
        "id": "44F5lw9AfMzD",
        "outputId": "2aba6332-27b3-4262-c3f7-e3e15cc7caa1"
      },
      "execution_count": 29,
      "outputs": [
        {
          "output_type": "execute_result",
          "data": {
            "text/plain": [
              "{'language': 'python',\n",
              " 'course': 'Data Science Master',\n",
              " 'topic': ['python', 'machine learning', 'deep learning']}"
            ]
          },
          "metadata": {},
          "execution_count": 29
        }
      ]
    },
    {
      "cell_type": "markdown",
      "source": [
        "#####Q8.\n",
        "#####Ans:\n",
        "##### View object in Dictionaries are: 1.key() 2.value() 3.item()"
      ],
      "metadata": {
        "id": "INxDSMq7jVqy"
      }
    },
    {
      "cell_type": "code",
      "source": [
        "dict1={'sport':'cricket',\"Team\":['india','England','Australia',\"South Africa\",\"Sri Lanka\"]}\n",
        "dict1.keys()"
      ],
      "metadata": {
        "colab": {
          "base_uri": "https://localhost:8080/"
        },
        "id": "10miOUlIjcBN",
        "outputId": "19589064-d88b-4043-c4c7-cf714a74a35b"
      },
      "execution_count": 30,
      "outputs": [
        {
          "output_type": "execute_result",
          "data": {
            "text/plain": [
              "dict_keys(['sport', 'Team'])"
            ]
          },
          "metadata": {},
          "execution_count": 30
        }
      ]
    },
    {
      "cell_type": "code",
      "source": [
        "dict1.values()"
      ],
      "metadata": {
        "colab": {
          "base_uri": "https://localhost:8080/"
        },
        "id": "8mOoWhIHk0Lq",
        "outputId": "1201f750-6dab-4577-fb46-8b800cbef902"
      },
      "execution_count": 31,
      "outputs": [
        {
          "output_type": "execute_result",
          "data": {
            "text/plain": [
              "dict_values(['cricket', ['india', 'England', 'Australia', 'South Africa', 'Sri Lanka']])"
            ]
          },
          "metadata": {},
          "execution_count": 31
        }
      ]
    },
    {
      "cell_type": "code",
      "source": [
        "dict1.items()"
      ],
      "metadata": {
        "colab": {
          "base_uri": "https://localhost:8080/"
        },
        "id": "0VbX7bduk5N3",
        "outputId": "7405127d-e357-4f39-8b94-f1a2f089aee6"
      },
      "execution_count": 32,
      "outputs": [
        {
          "output_type": "execute_result",
          "data": {
            "text/plain": [
              "dict_items([('sport', 'cricket'), ('Team', ['india', 'England', 'Australia', 'South Africa', 'Sri Lanka'])])"
            ]
          },
          "metadata": {},
          "execution_count": 32
        }
      ]
    },
    {
      "cell_type": "code",
      "source": [],
      "metadata": {
        "id": "frAwbTsWk9qo"
      },
      "execution_count": null,
      "outputs": []
    }
  ]
}